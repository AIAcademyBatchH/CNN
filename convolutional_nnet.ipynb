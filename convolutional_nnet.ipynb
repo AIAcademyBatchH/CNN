{
 "cells": [
  {
   "cell_type": "markdown",
   "metadata": {
    "id": "c1S97yz6A5Mf"
   },
   "source": [
    "In this code demo we’ll look at how we can implement a Convolutional Neural Network. We will be using keras with tensor flow as the backend."
   ]
  },
  {
   "cell_type": "code",
   "execution_count": 1,
   "metadata": {
    "colab": {
     "base_uri": "https://localhost:8080/"
    },
    "id": "cogZ3b_FBZAl",
    "outputId": "af0b35bf-ee66-47dc-ad4f-7d3db855c096"
   },
   "outputs": [
    {
     "name": "stdout",
     "output_type": "stream",
     "text": [
      "Mounted at /content/drive\n"
     ]
    }
   ],
   "source": [
    "from google.colab import drive\n",
    "drive.mount('/content/drive')"
   ]
  },
  {
   "cell_type": "code",
   "execution_count": 12,
   "metadata": {
    "id": "oOLSfSnyA09i"
   },
   "outputs": [],
   "source": [
    "import pandas as pd\n",
    "import numpy as np\n",
    "import matplotlib.pyplot as plt\n",
    "import tensorflow as tf\n",
    "from tensorflow import keras\n",
    "import os\n",
    "%matplotlib inline"
   ]
  },
  {
   "cell_type": "code",
   "execution_count": 3,
   "metadata": {
    "collapsed": true,
    "id": "pti0hnlSA09m"
   },
   "outputs": [],
   "source": [
    "# data_dir='E:\\Work\\Machine Learning Course\\Python\\Module 5 Neural Networks\\Data'\n",
    "# os.chdir(data_dir)"
   ]
  },
  {
   "cell_type": "code",
   "execution_count": 6,
   "metadata": {
    "collapsed": true,
    "id": "lJBxcCLwA09m"
   },
   "outputs": [],
   "source": [
    "X_train=pd.read_csv(\"/content/drive/MyDrive/fashion_train.csv\")\n",
    "y_train=pd.read_csv(\"/content/drive/MyDrive/fashion_train_labels.csv\")\n",
    "X_test=pd.read_csv(\"/content/drive/MyDrive/fashion_test.csv\")\n",
    "y_test=pd.read_csv(\"/content/drive/MyDrive/fashion_test_labels.csv\")"
   ]
  },
  {
   "cell_type": "markdown",
   "metadata": {
    "id": "2aJLgHs9CdbD"
   },
   "source": [
    "Now the dataset that I am using for this demo is similar to the dataset I have been using in the previous demos. As you remember we have a dataset which has images of different fashion accessories as well as their respective labels. In this demo we will build a Convolutional Neural Network classifier which will take an image as an input and try to predict the class to which that image belongs."
   ]
  },
  {
   "cell_type": "code",
   "execution_count": 7,
   "metadata": {
    "colab": {
     "base_uri": "https://localhost:8080/"
    },
    "id": "-DS25LRYA09n",
    "outputId": "224f3680-71be-493d-9b0f-a329906d32f2"
   },
   "outputs": [
    {
     "name": "stdout",
     "output_type": "stream",
     "text": [
      "(60000, 784)\n",
      "(60000, 1)\n",
      "(10000, 784)\n",
      "(10000, 1)\n"
     ]
    }
   ],
   "source": [
    "print(X_train.shape)\n",
    "print(y_train.shape)\n",
    "print(X_test.shape)\n",
    "print(y_test.shape)"
   ]
  },
  {
   "cell_type": "code",
   "execution_count": 8,
   "metadata": {
    "colab": {
     "base_uri": "https://localhost:8080/"
    },
    "id": "qUcCT-NJA09o",
    "outputId": "c0bf68bc-be9e-47f1-c50e-fbbf7bbcccfe"
   },
   "outputs": [
    {
     "name": "stdout",
     "output_type": "stream",
     "text": [
      "   0  1  2  3  4  5  6  7   8  ...  775  776  777  778  779  780  781  782  783\n",
      "0  0  0  0  0  0  0  0  0   0  ...    0    0    0    0    0    0    0    0    0\n",
      "1  0  0  0  0  0  1  0  0   0  ...  114  130   76    0    0    0    0    0    0\n",
      "2  0  0  0  0  0  0  0  0   0  ...    0    1    0    0    0    0    0    0    0\n",
      "3  0  0  0  0  0  0  0  0  33  ...    0    0    0    0    0    0    0    0    0\n",
      "4  0  0  0  0  0  0  0  0   0  ...    0    0    0    0    0    0    0    0    0\n",
      "\n",
      "[5 rows x 784 columns]\n"
     ]
    }
   ],
   "source": [
    "print(X_train.head())"
   ]
  },
  {
   "cell_type": "markdown",
   "metadata": {
    "id": "W0Z2QuVIDOux"
   },
   "source": [
    "If you remember X_train contains flattened images. Now each row here is a flattened image and as you remember, to build a Convolutional Neural Network, we will need to supply inputs as images instead of flattened images. We will see in detail how we will do this task programmatically.\n",
    "\n",
    "Let’s look at first few observations of Y_train. This contains the labels of images and these are the label descriptions."
   ]
  },
  {
   "cell_type": "code",
   "execution_count": 9,
   "metadata": {
    "colab": {
     "base_uri": "https://localhost:8080/"
    },
    "id": "-_10slVZA09o",
    "outputId": "2173f5bf-de49-4463-a89a-592d714bbd74"
   },
   "outputs": [
    {
     "name": "stdout",
     "output_type": "stream",
     "text": [
      "   0\n",
      "0  9\n",
      "1  0\n",
      "2  0\n",
      "3  3\n",
      "4  0\n"
     ]
    }
   ],
   "source": [
    "print(y_train.head())"
   ]
  },
  {
   "cell_type": "markdown",
   "metadata": {
    "id": "3iF2dwFKA09p"
   },
   "source": [
    "## These labels are\n",
    "\n",
    "| Label | Description |\n",
    "|-------|-------------|\n",
    "| 0     | T-shirt/Top |\n",
    "| 1     | Trouser     |\n",
    "| 2     | Pullover    |\n",
    "| 3     | Dress       |\n",
    "| 4     | Coat        |\n",
    "| 5     | Sandal      |\n",
    "| 6     | Shirt       |\n",
    "| 7     | Sneaker     |\n",
    "| 8     | Bag         |\n",
    "| 9     | Ankle Boot  |"
   ]
  },
  {
   "cell_type": "markdown",
   "metadata": {
    "id": "OnY2DLE6Dj8e"
   },
   "source": [
    "Here I am creating a label dictionary which will come in handy later on once I build the model."
   ]
  },
  {
   "cell_type": "code",
   "execution_count": 10,
   "metadata": {
    "collapsed": true,
    "id": "Q8HqsXtkA09q"
   },
   "outputs": [],
   "source": [
    "## Create a dictionary of labels\n",
    "label_dic={0:'T-shirt/Top',1:'Trouser',2:'Pullover',3:'Dress',4:'Coat',5:'Sandal',6:'Shirt',\n",
    "           7:'Sneaker',8:'Bag',9:'Ankle Boot'}"
   ]
  },
  {
   "cell_type": "markdown",
   "metadata": {
    "id": "rltCuMXdDlVt"
   },
   "source": [
    "here I am converting the dataframe into a numpy array and I am also creating a target matrix. Now if you remember the kind of input that we need to provide to neural networks in keras is slightly different. For a target variable we don’t need a vector of target variable, instead we need an array of target variable"
   ]
  },
  {
   "cell_type": "code",
   "execution_count": 13,
   "metadata": {
    "collapsed": true,
    "id": "QpJfqkKPA09q"
   },
   "outputs": [],
   "source": [
    "x=np.array(X_train)\n",
    "y=tf.keras.utils.to_categorical(np.array(y_train),10) "
   ]
  },
  {
   "cell_type": "code",
   "execution_count": 14,
   "metadata": {
    "collapsed": true,
    "id": "4G9YIz3WA09r"
   },
   "outputs": [],
   "source": [
    "## Normalize the pixel intensities\n",
    "x=x/255.0"
   ]
  },
  {
   "cell_type": "markdown",
   "metadata": {
    "id": "BrKroxWFEVFM"
   },
   "source": [
    "Here I am making some imports from keras, as you can see from the layers module I am importing the Conv2D. This would help me in adding the convolutional layers inside my neural network architecture. Now you are already familiar with Dense layer. The Flatten layer will be used to flatten the convolutional layers. I will also implement MaxPooling, so I am also importing the MaxPooling2D layer and I am also importing the Dropout layer. Now this is how I will create the architecture of my Convolutional Neural Network. Let’s import these classes first and then we can talk about the configuration of our Convolutional Neural Network."
   ]
  },
  {
   "cell_type": "code",
   "execution_count": 23,
   "metadata": {
    "collapsed": true,
    "id": "GrKdwUWpA09r"
   },
   "outputs": [],
   "source": [
    "from tensorflow.keras.models import Sequential\n",
    "from keras.layers.convolutional import Conv2D\n",
    "from keras.layers.core import Dense,Flatten\n",
    "from keras.layers.pooling import MaxPooling2D\n",
    "from keras.utils import np_utils\n",
    "from tensorflow.keras.optimizers import SGD\n",
    "from tensorflow.keras.layers import Dropout"
   ]
  },
  {
   "cell_type": "markdown",
   "metadata": {
    "id": "iUi-VCfOE2ei"
   },
   "source": [
    "The first hidden layer as you can see is a convolutional layer now and I am using 6 kernels and each kernel is 3 by 3. You can also see that there is a parameter called padding. Now I am saying padding is equal to same. This will make sure that there is no down sampling from my input to this layer. Also another parameter that you can see is input_shape.\n",
    "Now here I am specifying that I’ll be supplying an image which is 28 pixel by 28 pixel. If you remember our original data has 784 columns. Now these 784 columns are obtained by flattening 28 by 28 images. So here I am specifying that I will be providing not a flattened image but a 28 pixel by 28 pixel image. The 1 here represents that there is only 1 channel in my image. Now if you remember the images that I have are only black and white images. So there is only a grey scale channel that is what is being specified here. Then I am adding a max pooling layer, again a convolutional layer, again a max pooling layer and then I am adding a flattening operation to create fully connected layers. So after I flatten these convolutional layers, I’ll have a fully connected relu layer, followed again by a fully connected relu layer and since I am building a classifier the last layer will be a softmax layer. So let’s run this."
   ]
  },
  {
   "cell_type": "code",
   "execution_count": 24,
   "metadata": {
    "collapsed": true,
    "id": "AP3UnlnSA09s"
   },
   "outputs": [],
   "source": [
    "##LeNet model configuration(Original LeNet expects 32*32 input, I have modified the implimentation added droput layer)\n",
    "model=Sequential()\n",
    "model.add(Conv2D(filters=6,kernel_size=(3,3),padding='same',input_shape=(28,28,1))) ##  \"same\" results in padding with zeros evenly to the left/right or up/down of the input such that output has the same height/width dimension as the input.\n",
    "model.add(MaxPooling2D(pool_size=(2,2)))  ## kernel size of filter\n",
    "model.add(Conv2D(filters=16,kernel_size=(3,3),padding='valid')) ## \"valid\" means no padding.\n",
    "model.add(MaxPooling2D(pool_size=(2,2)))\n",
    "model.add(Flatten())\n",
    "model.add(Dropout(0.2,seed=100))##\n",
    "model.add(Dense(120,activation='relu'))\n",
    "model.add(Dense(84,activation='relu'))\n",
    "model.add(Dense(10,activation='softmax'))"
   ]
  },
  {
   "cell_type": "markdown",
   "metadata": {
    "id": "dvtqWDsLGRML"
   },
   "source": [
    "Here I am compiling my model. If you remember wherever we have a classifier, we always use a categorical cross entropy loss"
   ]
  },
  {
   "cell_type": "markdown",
   "metadata": {
    "id": "Ca9hHKpwGtvR"
   },
   "source": [
    "learning_rate: A Tensor, floating point value, or a schedule that is a tf.keras.optimizers.schedules.LearningRateSchedule, or a callable that takes no arguments and returns the actual value to use. The learning rate. Defaults to 0.01.\n",
    "\n",
    "momentum: float hyperparameter >= 0 that accelerates gradient descent in the relevant direction and dampens oscillations. Defaults to 0, i.e., vanilla gradient descent.\n",
    "\n",
    "nesterov: boolean. Whether to apply Nesterov momentum. Defaults to False.\n",
    "\n",
    "decay: Keras has a time-based learning rate schedule built in. ... When the decay argument is specified, it will decrease the learning rate from the previous epoch by the given fixed amount"
   ]
  },
  {
   "cell_type": "code",
   "execution_count": 26,
   "metadata": {
    "collapsed": true,
    "id": "mqrejBfZA09s"
   },
   "outputs": [],
   "source": [
    "sgd = SGD(learning_rate=0.01, decay=1e-6, momentum=0.9, nesterov=True)\n",
    "model.compile(loss='categorical_crossentropy',\n",
    "              optimizer=sgd,\n",
    "              metrics=['accuracy'])"
   ]
  },
  {
   "cell_type": "markdown",
   "metadata": {
    "id": "21oYAUqNHDEH"
   },
   "source": [
    "Now X if you remember was a numpy array. I am reshaping it and I am reshaping it in this manner where I am saying that I will have 28 by 28 images. How many images as many as there are number of rows in my original matrix and there will be 1 channel in these images."
   ]
  },
  {
   "cell_type": "code",
   "execution_count": 27,
   "metadata": {
    "collapsed": true,
    "id": "-EEgPlWoA09s"
   },
   "outputs": [],
   "source": [
    "##Reshaping: nrows,28,28,1 channel (images are greyscale)\n",
    "x_train=x.reshape(x.shape[0],28,28,1)"
   ]
  },
  {
   "cell_type": "markdown",
   "metadata": {
    "id": "4BsXyPegHZ60"
   },
   "source": [
    "So now I am ready to do the training operation for my Convolutional Neural Network. I will supply X_train, now again I am emphasizing here the X_train is not an array of flattened images. It’s an array of shape 28x28. So let’s run this.\n",
    "\n",
    "Now it will take some time for this training to occur. Convolutional Neural Network takes slightly more time than your Multi Layered Perceptrons to train. So depending upon what is the configuration of your machine, this can take anywhere between one to five minutes to train this model"
   ]
  },
  {
   "cell_type": "code",
   "execution_count": 28,
   "metadata": {
    "colab": {
     "base_uri": "https://localhost:8080/"
    },
    "id": "2bMGv_ZzA09t",
    "outputId": "aa3c8585-c16c-40cf-e4f3-83207c731932"
   },
   "outputs": [
    {
     "name": "stdout",
     "output_type": "stream",
     "text": [
      "Epoch 1/10\n",
      "48/48 [==============================] - 15s 302ms/step - loss: 1.6510 - accuracy: 0.4355 - val_loss: 0.8187 - val_accuracy: 0.7003\n",
      "Epoch 2/10\n",
      "48/48 [==============================] - 14s 297ms/step - loss: 0.7642 - accuracy: 0.7133 - val_loss: 0.6372 - val_accuracy: 0.7524\n",
      "Epoch 3/10\n",
      "48/48 [==============================] - 14s 298ms/step - loss: 0.6572 - accuracy: 0.7536 - val_loss: 0.5922 - val_accuracy: 0.7682\n",
      "Epoch 4/10\n",
      "48/48 [==============================] - 14s 298ms/step - loss: 0.6026 - accuracy: 0.7750 - val_loss: 0.5367 - val_accuracy: 0.7983\n",
      "Epoch 5/10\n",
      "48/48 [==============================] - 14s 297ms/step - loss: 0.5622 - accuracy: 0.7920 - val_loss: 0.5076 - val_accuracy: 0.8102\n",
      "Epoch 6/10\n",
      "48/48 [==============================] - 14s 298ms/step - loss: 0.5320 - accuracy: 0.8032 - val_loss: 0.4844 - val_accuracy: 0.8217\n",
      "Epoch 7/10\n",
      "48/48 [==============================] - 14s 298ms/step - loss: 0.5104 - accuracy: 0.8120 - val_loss: 0.4647 - val_accuracy: 0.8307\n",
      "Epoch 8/10\n",
      "48/48 [==============================] - 14s 298ms/step - loss: 0.4902 - accuracy: 0.8188 - val_loss: 0.4507 - val_accuracy: 0.8390\n",
      "Epoch 9/10\n",
      "48/48 [==============================] - 14s 297ms/step - loss: 0.4730 - accuracy: 0.8277 - val_loss: 0.4372 - val_accuracy: 0.8400\n",
      "Epoch 10/10\n",
      "48/48 [==============================] - 14s 297ms/step - loss: 0.4592 - accuracy: 0.8336 - val_loss: 0.4251 - val_accuracy: 0.8468\n"
     ]
    }
   ],
   "source": [
    "history=model.fit(x_train,y,epochs=10,batch_size=1000,validation_split=0.20)"
   ]
  },
  {
   "cell_type": "markdown",
   "metadata": {
    "id": "tzShQ6tjHnJp"
   },
   "source": [
    "I will use my test data to obtain predictions on it. This is what I am doing here. I am creating a numpy array first on my test matrix, then I am normalizing that matrix, then I am reshaping that matrix."
   ]
  },
  {
   "cell_type": "code",
   "execution_count": 29,
   "metadata": {
    "collapsed": true,
    "id": "wJvwDPX5A09t"
   },
   "outputs": [],
   "source": [
    "x_text=np.array(X_test)\n",
    "x_test=x_text/255.0\n",
    "x_test=x_test.reshape(x_test.shape[0],28,28,1)"
   ]
  },
  {
   "cell_type": "markdown",
   "metadata": {
    "id": "i75upKlsHr8K"
   },
   "source": [
    "Now let’s take a look at what is the image at the 8th index which will be the ninth row in my test data."
   ]
  },
  {
   "cell_type": "code",
   "execution_count": 30,
   "metadata": {
    "colab": {
     "base_uri": "https://localhost:8080/",
     "height": 283
    },
    "id": "mQpCQf3mA09t",
    "outputId": "cee1fc36-7f25-40a3-f4b1-ffb0f6bc1d6c"
   },
   "outputs": [
    {
     "data": {
      "text/plain": [
       "<matplotlib.image.AxesImage at 0x7f99e6260810>"
      ]
     },
     "execution_count": 30,
     "metadata": {},
     "output_type": "execute_result"
    },
    {
     "data": {
      "image/png": "[encoded data removed]",
      "text/plain": [
       "<Figure size 432x288 with 1 Axes>"
      ]
     },
     "metadata": {
      "needs_background": "light"
     },
     "output_type": "display_data"
    }
   ],
   "source": [
    "plt.imshow(x_test[8,:,:].reshape(28,28),cmap='gray')"
   ]
  },
  {
   "cell_type": "code",
   "execution_count": 33,
   "metadata": {
    "colab": {
     "base_uri": "https://localhost:8080/"
    },
    "id": "nKpiBooJA09u",
    "outputId": "5a8fa643-64bb-4178-c89f-a98258d8a64d"
   },
   "outputs": [
    {
     "data": {
      "text/plain": [
       "array([[0.00449411, 0.00105526, 0.00105154, 0.00214901, 0.00188434,\n",
       "        0.7408006 , 0.00151258, 0.23111163, 0.01426458, 0.00167629]],\n",
       "      dtype=float32)"
      ]
     },
     "execution_count": 33,
     "metadata": {},
     "output_type": "execute_result"
    }
   ],
   "source": [
    "p = model.predict(x_test[8,:,:].reshape(1,28,28,1))\n",
    "p"
   ]
  },
  {
   "cell_type": "markdown",
   "metadata": {
    "id": "bhydWZfOIXx6"
   },
   "source": [
    "This is the probability vector that has been returned. Let’s figure out at which index do I have a maximum value."
   ]
  },
  {
   "cell_type": "code",
   "execution_count": 34,
   "metadata": {
    "colab": {
     "base_uri": "https://localhost:8080/"
    },
    "id": "SbcvclhmA09u",
    "outputId": "ea94ec47-8a5c-4636-b433-104ba84be123"
   },
   "outputs": [
    {
     "data": {
      "text/plain": [
       "5"
      ]
     },
     "execution_count": 34,
     "metadata": {},
     "output_type": "execute_result"
    }
   ],
   "source": [
    "np.argmax(p)"
   ]
  },
  {
   "cell_type": "markdown",
   "metadata": {
    "id": "CqZCMKFrIqgY"
   },
   "source": [
    "Let's see what the 5th label in the dictionary refers to"
   ]
  },
  {
   "cell_type": "code",
   "execution_count": 37,
   "metadata": {
    "colab": {
     "base_uri": "https://localhost:8080/",
     "height": 35
    },
    "id": "MzTSknxkA09v",
    "outputId": "9e36fcbe-02ee-4e8f-9522-8ac642999675"
   },
   "outputs": [
    {
     "data": {
      "application/vnd.google.colaboratory.intrinsic+json": {
       "type": "string"
      },
      "text/plain": [
       "'Sandal'"
      ]
     },
     "execution_count": 37,
     "metadata": {},
     "output_type": "execute_result"
    }
   ],
   "source": [
    "label_dic[5]"
   ]
  },
  {
   "cell_type": "code",
   "execution_count": 36,
   "metadata": {
    "colab": {
     "base_uri": "https://localhost:8080/",
     "height": 363
    },
    "id": "bO1uJfJ-A09v",
    "outputId": "1f78307e-5356-4c07-b047-7f86b4807e85"
   },
   "outputs": [
    {
     "data": {
      "text/html": [
       "<div>\n",
       "<style scoped>\n",
       "    .dataframe tbody tr th:only-of-type {\n",
       "        vertical-align: middle;\n",
       "    }\n",
       "\n",
       "    .dataframe tbody tr th {\n",
       "        vertical-align: top;\n",
       "    }\n",
       "\n",
       "    .dataframe thead th {\n",
       "        text-align: right;\n",
       "    }\n",
       "</style>\n",
       "<table border=\"1\" class=\"dataframe\">\n",
       "  <thead>\n",
       "    <tr style=\"text-align: right;\">\n",
       "      <th></th>\n",
       "      <th>0</th>\n",
       "    </tr>\n",
       "  </thead>\n",
       "  <tbody>\n",
       "    <tr>\n",
       "      <th>0</th>\n",
       "      <td>9</td>\n",
       "    </tr>\n",
       "    <tr>\n",
       "      <th>1</th>\n",
       "      <td>2</td>\n",
       "    </tr>\n",
       "    <tr>\n",
       "      <th>2</th>\n",
       "      <td>1</td>\n",
       "    </tr>\n",
       "    <tr>\n",
       "      <th>3</th>\n",
       "      <td>1</td>\n",
       "    </tr>\n",
       "    <tr>\n",
       "      <th>4</th>\n",
       "      <td>6</td>\n",
       "    </tr>\n",
       "    <tr>\n",
       "      <th>5</th>\n",
       "      <td>1</td>\n",
       "    </tr>\n",
       "    <tr>\n",
       "      <th>6</th>\n",
       "      <td>4</td>\n",
       "    </tr>\n",
       "    <tr>\n",
       "      <th>7</th>\n",
       "      <td>6</td>\n",
       "    </tr>\n",
       "    <tr>\n",
       "      <th>8</th>\n",
       "      <td>5</td>\n",
       "    </tr>\n",
       "    <tr>\n",
       "      <th>9</th>\n",
       "      <td>7</td>\n",
       "    </tr>\n",
       "  </tbody>\n",
       "</table>\n",
       "</div>"
      ],
      "text/plain": [
       "   0\n",
       "0  9\n",
       "1  2\n",
       "2  1\n",
       "3  1\n",
       "4  6\n",
       "5  1\n",
       "6  4\n",
       "7  6\n",
       "8  5\n",
       "9  7"
      ]
     },
     "execution_count": 36,
     "metadata": {},
     "output_type": "execute_result"
    }
   ],
   "source": [
    "y_test.head(10)"
   ]
  },
  {
   "cell_type": "markdown",
   "metadata": {
    "id": "tDsJExEEIxxz"
   },
   "source": [
    "If you remember I have run this Convolutional Neural Network only for 10 epochs and within 10 epochs I have been able to get a validation accuracy of 85 percent.\n",
    "Now if you remember I had run a Multi Layered Perceptrons for thirty epochs and even after that my Multi Layered Perceptron only was able to achieve an accuracy of 80 to 81 percent. So there is quite an increase in the accuracy just by changing the architecture of a neural network."
   ]
  },
  {
   "cell_type": "markdown",
   "metadata": {
    "id": "oeIlVp76JEp2"
   },
   "source": [
    "Now I can always plot the training and validation accuracy. This is how that curve looks like. I can also plot the training and validation loss."
   ]
  },
  {
   "cell_type": "code",
   "execution_count": 39,
   "metadata": {
    "colab": {
     "base_uri": "https://localhost:8080/",
     "height": 295
    },
    "id": "V1Sm8O-5A09w",
    "outputId": "2c5dd910-d185-46b7-fb75-79ee87989e3a"
   },
   "outputs": [
    {
     "data": {
      "image/png": "[encoded data removed]",
      "text/plain": [
       "<Figure size 432x288 with 1 Axes>"
      ]
     },
     "metadata": {
      "needs_background": "light"
     },
     "output_type": "display_data"
    }
   ],
   "source": [
    "## Check for overfit\n",
    "# Plot training and validation accuracy\n",
    "plt.plot(history.history['accuracy'])\n",
    "plt.plot(history.history['val_accuracy'])\n",
    "plt.title('model accuracy')\n",
    "plt.ylabel('accuracy')\n",
    "plt.xlabel('epoch')\n",
    "plt.legend(['train', 'test'], loc='upper left')\n",
    "plt.show()"
   ]
  },
  {
   "cell_type": "code",
   "execution_count": 40,
   "metadata": {
    "colab": {
     "base_uri": "https://localhost:8080/",
     "height": 295
    },
    "id": "7NBYTr86A09w",
    "outputId": "f385bcc6-2925-4bde-c32d-a04ce3146d30"
   },
   "outputs": [
    {
     "data": {
      "image/png": "[encoded data removed]",
      "text/plain": [
       "<Figure size 432x288 with 1 Axes>"
      ]
     },
     "metadata": {
      "needs_background": "light"
     },
     "output_type": "display_data"
    }
   ],
   "source": [
    "# summarize history for loss\n",
    "plt.plot(history.history['loss'])\n",
    "plt.plot(history.history['val_loss'])\n",
    "plt.title('model loss')\n",
    "plt.ylabel('loss')\n",
    "plt.xlabel('epoch')\n",
    "plt.legend(['train', 'test'], loc='upper left')\n",
    "plt.show()"
   ]
  },
  {
   "cell_type": "code",
   "execution_count": null,
   "metadata": {
    "collapsed": true,
    "id": "9hLQMvBZA09w"
   },
   "outputs": [],
   "source": []
  }
 ],
 "metadata": {
  "colab": {
   "collapsed_sections": [],
   "name": "convolutional_nnet.ipynb",
   "provenance": []
  },
  "kernelspec": {
   "display_name": "Python 3",
   "language": "python",
   "name": "python3"
  },
  "language_info": {
   "codemirror_mode": {
    "name": "ipython",
    "version": 3
   },
   "file_extension": ".py",
   "mimetype": "text/x-python",
   "name": "python",
   "nbconvert_exporter": "python",
   "pygments_lexer": "ipython3",
   "version": "3.6.5"
  }
 },
 "nbformat": 4,
 "nbformat_minor": 1
}
